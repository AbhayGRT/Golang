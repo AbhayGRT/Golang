{
 "cells": [
  {
   "cell_type": "code",
   "execution_count": 2,
   "metadata": {},
   "outputs": [
    {
     "name": "stdout",
     "output_type": "stream",
     "text": [
      "Renamed: main.go to 1_main.go\n",
      "Renamed: comment.go to 2_comment.go\n",
      "Renamed: variable.go to 3_variable.go\n",
      "Renamed: synataxofvariable.go to 4_synataxofvariable.go\n",
      "Renamed: printvariableandstring.go to 5_printvariableandstring.go\n",
      "Renamed: newline.go to 6_newline.go\n",
      "Renamed: printf.go to 7_printf.go\n",
      "Renamed: shorthandvariable.go to 8_shorthandvariable.go\n",
      "Renamed: shorthandtechnique.go to 9_shorthandtechnique.go\n",
      "Renamed: innerandouterblock.go to 10_innerandouterblock.go\n",
      "Renamed: globalvariables.go to 11_globalvariables.go\n",
      "Renamed: zerovalues.go to 12_zerovalues.go\n",
      "Renamed: userinput.go to 13_userinput.go\n",
      "Renamed: count&erroe.go to 14_count&erroe.go\n",
      "Renamed: typeofvariable.go to 15_typeofvariable.go\n",
      "Renamed: typeOf.go to 16_typeOf.go\n",
      "Renamed: reflect.go to 17_reflect.go\n",
      "Renamed: typecasting.go to 18_typecasting.go\n",
      "Renamed: inttostr.go to 19_inttostr.go\n",
      "Renamed: strtotint.go to 20_strtotint.go\n",
      "Renamed: untyped.go to 21_untyped.go\n",
      "Renamed: areaofcircle.go to 22_areaofcircle.go\n",
      "Renamed: comparisonoperator.go to 23_comparisonoperator.go\n",
      "Renamed: arithmeticoperator.go to 24_arithmeticoperator.go\n",
      "Renamed: logicaloperator.go to 25_logicaloperator.go\n",
      "Renamed: assignmentoperator.go to 26_assignmentoperator.go\n",
      "Renamed: bitwiseoperator.go to 27_bitwiseoperator.go\n",
      "Renamed: if-elseif-else.go to 28_if-elseif-else.go\n",
      "Renamed: switchcase.go to 29_switchcase.go\n",
      "Renamed: fallthrough.go to 30_fallthrough.go\n",
      "Renamed: switchwithconditions.go to 31_switchwithconditions.go\n",
      "Renamed: forloop.go to 32_forloop.go\n",
      "Renamed: infinite.go to 33_infinite.go\n",
      "Renamed: break.go to 34_break.go\n",
      "Renamed: continue.go to 35_continue.go\n"
     ]
    }
   ],
   "source": [
    "import os\n",
    "from pathlib import Path\n",
    "import time\n",
    "\n",
    "def get_files(directory):\n",
    "    files = []\n",
    "    for file_path in Path(directory).iterdir():\n",
    "        if file_path.is_file():\n",
    "            files.append({\n",
    "                'name': file_path.name,\n",
    "                'create_time': time.ctime(os.path.getctime(file_path)),\n",
    "            })\n",
    "    return files\n",
    "\n",
    "def rename_files(files, directory):\n",
    "    for i, file_info in enumerate(files, start=1):\n",
    "        old_path = os.path.join(directory, file_info['name'])\n",
    "        new_name = f\"{i}_{file_info['name']}\"\n",
    "        new_path = os.path.join(directory, new_name)\n",
    "        \n",
    "        os.rename(old_path, new_path)\n",
    "        print(f\"Renamed: {file_info['name']} to {new_name}\")\n",
    "\n",
    "def main():\n",
    "    directory = \"/home/abhay/Desktop/Golang\"\n",
    "\n",
    "    files = get_files(directory)\n",
    "    files.sort(key=lambda x: x['create_time'])\n",
    "\n",
    "    rename_files(files, directory)\n",
    "\n",
    "if __name__ == \"__main__\":\n",
    "    main()\n"
   ]
  }
 ],
 "metadata": {
  "kernelspec": {
   "display_name": "env",
   "language": "python",
   "name": "python3"
  },
  "language_info": {
   "codemirror_mode": {
    "name": "ipython",
    "version": 3
   },
   "file_extension": ".py",
   "mimetype": "text/x-python",
   "name": "python",
   "nbconvert_exporter": "python",
   "pygments_lexer": "ipython3",
   "version": "3.11.4"
  }
 },
 "nbformat": 4,
 "nbformat_minor": 2
}
